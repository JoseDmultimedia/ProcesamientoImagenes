{
  "nbformat": 4,
  "nbformat_minor": 0,
  "metadata": {
    "colab": {
      "name": "ClaseEjemplo",
      "version": "0.3.2",
      "provenance": [],
      "include_colab_link": true
    },
    "kernelspec": {
      "name": "python3",
      "display_name": "Python 3"
    }
  },
  "cells": [
    {
      "cell_type": "markdown",
      "metadata": {
        "id": "view-in-github",
        "colab_type": "text"
      },
      "source": [
        "<a href=\"https://colab.research.google.com/github/JoseDmultimedia/ProcesamientoImagenes/blob/master/ClaseEjemplo.ipynb\" target=\"_parent\"><img src=\"https://colab.research.google.com/assets/colab-badge.svg\" alt=\"Open In Colab\"/></a>"
      ]
    },
    {
      "cell_type": "markdown",
      "metadata": {
        "id": "lvWQX0OhiduS",
        "colab_type": "text"
      },
      "source": [
        "# **EJEMPLO**"
      ]
    },
    {
      "cell_type": "code",
      "metadata": {
        "id": "3AQQXgcEioeC",
        "colab_type": "code",
        "outputId": "84c89d56-4cf1-4a1d-f502-cf27456534c6",
        "colab": {
          "base_uri": "https://localhost:8080/",
          "height": 34
        }
      },
      "source": [
        "from google.colab import drive\n",
        "drive.mount('/content/drive')\n"
      ],
      "execution_count": 0,
      "outputs": [
        {
          "output_type": "stream",
          "text": [
            "Drive already mounted at /content/drive; to attempt to forcibly remount, call drive.mount(\"/content/drive\", force_remount=True).\n"
          ],
          "name": "stdout"
        }
      ]
    },
    {
      "cell_type": "markdown",
      "metadata": {
        "id": "biCFveJ6jnwq",
        "colab_type": "text"
      },
      "source": [
        "# **Importar las Librerias necesarias**"
      ]
    },
    {
      "cell_type": "code",
      "metadata": {
        "id": "ZV3chIoDjyrz",
        "colab_type": "code",
        "colab": {}
      },
      "source": [
        "# importar librerias necesarias \n",
        "import numpy as np\n",
        "import matplotlib.pyplot as plt\n",
        "import cv2\n",
        "\n",
        "#graficar imagenes estaticas en el notebook\n",
        "%matplotlib inline"
      ],
      "execution_count": 0,
      "outputs": []
    },
    {
      "cell_type": "markdown",
      "metadata": {
        "id": "kYxKS6XylfaH",
        "colab_type": "text"
      },
      "source": [
        "# **Forma Habitual de leer una imagen** (Error)"
      ]
    },
    {
      "cell_type": "code",
      "metadata": {
        "id": "mlutYV6TlkDe",
        "colab_type": "code",
        "colab": {}
      },
      "source": [
        "image = cv2.imread('/content/drive/My Drive/Folder PDI/Imagen.png')\n",
        "cv2.imshow(\"Image\", image)\n",
        "cv2.waitKey(0)"
      ],
      "execution_count": 0,
      "outputs": []
    },
    {
      "cell_type": "markdown",
      "metadata": {
        "id": "UTrVf666m75v",
        "colab_type": "text"
      },
      "source": [
        "# **New Script / Solución Cargar Imagen**"
      ]
    },
    {
      "cell_type": "code",
      "metadata": {
        "id": "KiiKgv3rnCD2",
        "colab_type": "code",
        "outputId": "3d10bceb-217b-40a2-b146-0e16341ae516",
        "colab": {
          "base_uri": "https://localhost:8080/",
          "height": 529
        }
      },
      "source": [
        "from google.colab.patches import cv2_imshow\n",
        "img = cv2.imread('/content/drive/My Drive/Folder PDI/Imagen.png',cv2.IMREAD_UNCHANGED)\n",
        "cv2_imshow(img)"
      ],
      "execution_count": 0,
      "outputs": [
        {
          "output_type": "display_data",
          "data": {
            "image/png": "[encoded data removed]",
            "text/plain": [
              "<PIL.Image.Image image mode=RGBA size=512x512 at 0x7FF0FA79D0B8>"
            ]
          },
          "metadata": {
            "tags": []
          }
        }
      ]
    },
    {
      "cell_type": "markdown",
      "metadata": {
        "id": "pLTqiNUapl2g",
        "colab_type": "text"
      },
      "source": [
        "# **Cargan imagen original y visualizar con matplotlib**"
      ]
    },
    {
      "cell_type": "code",
      "metadata": {
        "id": "hMt8ZW5hpuDw",
        "colab_type": "code",
        "outputId": "fdbf4d39-0e26-4539-9b8b-adfbd331dcfd",
        "colab": {
          "base_uri": "https://localhost:8080/",
          "height": 432
        }
      },
      "source": [
        "#leer una imagen\n",
        "#primciple of least astonishement (surprice)\n",
        "\n",
        "img_BGR=cv2.imread('/content/drive/My Drive/Folder PDI/Imagen.png', cv2.IMREAD_COLOR)\n",
        "\n",
        "plt.figure(figsize=(7,7))\n",
        "plt.imshow(img_BGR)\n",
        "plt.show()"
      ],
      "execution_count": 0,
      "outputs": [
        {
          "output_type": "display_data",
          "data": {
            "image/png": "[encoded data removed]",
            "text/plain": [
              "<Figure size 504x504 with 1 Axes>"
            ]
          },
          "metadata": {
            "tags": []
          }
        }
      ]
    },
    {
      "cell_type": "markdown",
      "metadata": {
        "id": "w2RqsCrejF3J",
        "colab_type": "text"
      },
      "source": [
        "# New Script / Llamar imagenes sin necesidad del path grande\n"
      ]
    },
    {
      "cell_type": "code",
      "metadata": {
        "id": "FJ50jEi-jNcZ",
        "colab_type": "code",
        "outputId": "01565e85-e53f-42fe-b1cf-952babff8f99",
        "colab": {
          "base_uri": "https://localhost:8080/",
          "height": 136
        }
      },
      "source": [
        "!pwd \n",
        "!ls\n",
        "#%cd ../\n",
        "%cd /content/drive/My Drive/Folder PDI/\n",
        "!pwd\n",
        "\n",
        "from google.colab.patches import cv2_imshow\n",
        "\n",
        "img = cv2.imread('Imagen.png', cv2.IMREAD_UNCHANGED)\n",
        "img = cv2.resize(img,(int(50),int(50)))\n",
        "cv2_imshow(img)\n"
      ],
      "execution_count": 60,
      "outputs": [
        {
          "output_type": "stream",
          "text": [
            "/content/drive/My Drive/Folder PDI\n",
            "Imagen.png\n",
            "/content/drive/My Drive/Folder PDI\n",
            "/content/drive/My Drive/Folder PDI\n"
          ],
          "name": "stdout"
        },
        {
          "output_type": "display_data",
          "data": {
            "image/png": "[encoded data removed]",
            "text/plain": [
              "<PIL.Image.Image image mode=RGBA size=50x50 at 0x7F88276E6B00>"
            ]
          },
          "metadata": {
            "tags": []
          }
        }
      ]
    },
    {
      "cell_type": "markdown",
      "metadata": {
        "id": "XBIiIizxrtY2",
        "colab_type": "text"
      },
      "source": [
        "# **New Script** / Segunda Opción"
      ]
    },
    {
      "cell_type": "code",
      "metadata": {
        "id": "FZHX7ftUrrk9",
        "colab_type": "code",
        "outputId": "66e68961-25a2-4084-8ea3-4177fc78bf37",
        "colab": {
          "base_uri": "https://localhost:8080/",
          "height": 67
        }
      },
      "source": [
        "import os \n",
        "path='/content/drive/My Drive/Folder PDI/'\n",
        "os.chdir(path)\n",
        "#!pwd\n",
        "\n",
        "from google.colab.patches import cv2_imshow\n",
        "\n",
        "img1 = cv2.imread('Imagen.png', cv2.IMREAD_UNCHANGED)\n",
        "img1 = cv2.resize(img,(int(50),int(50)))\n",
        "cv2_imshow(img)\n"
      ],
      "execution_count": 61,
      "outputs": [
        {
          "output_type": "display_data",
          "data": {
            "image/png": "[encoded data removed]",
            "text/plain": [
              "<PIL.Image.Image image mode=RGBA size=50x50 at 0x7F88276E6F28>"
            ]
          },
          "metadata": {
            "tags": []
          }
        }
      ]
    },
    {
      "cell_type": "markdown",
      "metadata": {
        "id": "xzgGY1_Vs-3b",
        "colab_type": "text"
      },
      "source": [
        "# New **script** cambiar tamaño"
      ]
    },
    {
      "cell_type": "code",
      "metadata": {
        "id": "bJvpuH1AtVDt",
        "colab_type": "code",
        "outputId": "9b27db4f-dcff-4e7d-b7f8-8c33623f40cd",
        "colab": {
          "base_uri": "https://localhost:8080/",
          "height": 304
        }
      },
      "source": [
        "#Expanding\n",
        "print(img.shape)\n",
        "res = cv2.resize(img, None, fx=10, fy=10, interpolation =  cv2.INTER_CUBIC)\n",
        "print(res.shape)\n",
        "plt.imshow(res)\n",
        "plt.show()"
      ],
      "execution_count": 0,
      "outputs": [
        {
          "output_type": "stream",
          "text": [
            "(50, 50, 4)\n",
            "(500, 500, 4)\n"
          ],
          "name": "stdout"
        },
        {
          "output_type": "display_data",
          "data": {
            "image/png": "[encoded data removed]",
            "text/plain": [
              "<Figure size 432x288 with 1 Axes>"
            ]
          },
          "metadata": {
            "tags": []
          }
        }
      ]
    },
    {
      "cell_type": "markdown",
      "metadata": {
        "id": "WoND4YegwyUI",
        "colab_type": "text"
      },
      "source": [
        "# New Script / Contraer **Imagen**"
      ]
    },
    {
      "cell_type": "code",
      "metadata": {
        "id": "IPOwyaBAxAi6",
        "colab_type": "code",
        "outputId": "6b00e495-379b-4f17-ff24-908a8c23c069",
        "colab": {
          "base_uri": "https://localhost:8080/",
          "height": 304
        }
      },
      "source": [
        "#Shirking\n",
        "print(img.shape)\n",
        "res = cv2.resize(img, None, fx=0.5, fy=0.5, interpolation =  cv2.INTER_CUBIC)\n",
        "print(res.shape)\n",
        "plt.imshow(res)\n",
        "plt.show()\n"
      ],
      "execution_count": 0,
      "outputs": [
        {
          "output_type": "stream",
          "text": [
            "(50, 50, 4)\n",
            "(25, 25, 4)\n"
          ],
          "name": "stdout"
        },
        {
          "output_type": "display_data",
          "data": {
            "image/png": "[encoded data removed]",
            "text/plain": [
              "<Figure size 432x288 with 1 Axes>"
            ]
          },
          "metadata": {
            "tags": []
          }
        }
      ]
    },
    {
      "cell_type": "markdown",
      "metadata": {
        "id": "7jwhIL0HxRGP",
        "colab_type": "text"
      },
      "source": [
        "Modificación del show"
      ]
    },
    {
      "cell_type": "code",
      "metadata": {
        "colab_type": "code",
        "outputId": "26db36c1-e4c5-423a-ac3a-129ec2dccd1f",
        "id": "79iyLlfOzxA8",
        "colab": {
          "base_uri": "https://localhost:8080/",
          "height": 418
        }
      },
      "source": [
        "img_RGB = cv2.cvtColor(img,cv2.COLOR_BGR2RGB)\n",
        "\n",
        "plt.figure(figsize=(7,7))\n",
        "plt.imshow(img_RGB)\n",
        "plt.xticks([])\n",
        "plt.yticks([])\n",
        "plt.show()"
      ],
      "execution_count": 52,
      "outputs": [
        {
          "output_type": "display_data",
          "data": {
            "image/png": "[encoded data removed]",
            "text/plain": [
              "<Figure size 504x504 with 1 Axes>"
            ]
          },
          "metadata": {
            "tags": []
          }
        }
      ]
    },
    {
      "cell_type": "markdown",
      "metadata": {
        "id": "4nYgLpBQ0uHL",
        "colab_type": "text"
      },
      "source": [
        "Escala De Grises"
      ]
    },
    {
      "cell_type": "code",
      "metadata": {
        "id": "FCn0p8_60rgf",
        "colab_type": "code",
        "colab": {
          "base_uri": "https://localhost:8080/",
          "height": 418
        },
        "outputId": "d2ff34e8-4943-4989-caa6-664147a8c63c"
      },
      "source": [
        "img_GRAY=cv2.cvtColor(img,cv2.COLOR_BGR2GRAY)\n",
        "\n",
        "plt.figure(figsize=(7,7))\n",
        "plt.imshow(img_GRAY)\n",
        "plt.xticks([])\n",
        "plt.yticks([])\n",
        "plt.show()"
      ],
      "execution_count": 42,
      "outputs": [
        {
          "output_type": "display_data",
          "data": {
            "image/png": "[encoded data removed]",
            "text/plain": [
              "<Figure size 504x504 with 1 Axes>"
            ]
          },
          "metadata": {
            "tags": []
          }
        }
      ]
    },
    {
      "cell_type": "markdown",
      "metadata": {
        "id": "aRtU_8ew1OEq",
        "colab_type": "text"
      },
      "source": [
        "Mostrar Gris"
      ]
    },
    {
      "cell_type": "code",
      "metadata": {
        "id": "GOdrfxvz1Nms",
        "colab_type": "code",
        "colab": {
          "base_uri": "https://localhost:8080/",
          "height": 418
        },
        "outputId": "668b98bd-8a93-42b2-ee87-5b9b20383242"
      },
      "source": [
        "img_GRAY=cv2.cvtColor(img,cv2.COLOR_BGR2GRAY)\n",
        "\n",
        "plt.figure(figsize=(7,7))\n",
        "plt.imshow(img_GRAY, cmap = 'gray')\n",
        "plt.xticks([])\n",
        "plt.yticks([])\n",
        "plt.show()"
      ],
      "execution_count": 47,
      "outputs": [
        {
          "output_type": "display_data",
          "data": {
            "image/png": "[encoded data removed]",
            "text/plain": [
              "<Figure size 504x504 with 1 Axes>"
            ]
          },
          "metadata": {
            "tags": []
          }
        }
      ]
    },
    {
      "cell_type": "markdown",
      "metadata": {
        "id": "dABRXLF21y7c",
        "colab_type": "text"
      },
      "source": [
        "METODOS DE PYTHON"
      ]
    },
    {
      "cell_type": "code",
      "metadata": {
        "id": "r1xFriIG12TF",
        "colab_type": "code",
        "colab": {
          "base_uri": "https://localhost:8080/",
          "height": 656
        },
        "outputId": "ae16780e-db4b-42cf-efef-1c1bfc13b50d"
      },
      "source": [
        "#Display two images\n",
        "def display (a, b, title1=\"Original\", title2 = \"Edited\"):\n",
        "    plt.figure(figsize=(14,14))\n",
        "    plt.subplot(121), plt.imshow(a), plt.title(title1)\n",
        "    plt.xticks([]), plt.yticks([])\n",
        "    plt.subplot(122), plt.imshow(b), plt.title(title2)\n",
        "    plt.xticks([]), plt.yticks([])\n",
        "    plt.show()\n",
        "    \n",
        "#Display one image\n",
        "def display_one(a,title1 = \"Original\"):\n",
        "    plt.imshow(a), plt.title(title1)\n",
        "    plt.xticks([]), plt.yticks([])\n",
        "    plt.show()\n",
        "    \n",
        "display_one(img_GRAY)\n",
        "\n",
        "display(img_GRAY, img_RGB)"
      ],
      "execution_count": 53,
      "outputs": [
        {
          "output_type": "display_data",
          "data": {
            "image/png": "[encoded data removed]",
            "text/plain": [
              "<Figure size 432x288 with 1 Axes>"
            ]
          },
          "metadata": {
            "tags": []
          }
        },
        {
          "output_type": "display_data",
          "data": {
            "image/png": "[encoded data removed]",
            "text/plain": [
              "<Figure size 1008x1008 with 2 Axes>"
            ]
          },
          "metadata": {
            "tags": []
          }
        }
      ]
    },
    {
      "cell_type": "markdown",
      "metadata": {
        "id": "qKbZaIml5EWh",
        "colab_type": "text"
      },
      "source": [
        "Metodo de llamado a 4 imagenes"
      ]
    },
    {
      "cell_type": "code",
      "metadata": {
        "id": "neY5qaeQ5dAV",
        "colab_type": "code",
        "colab": {
          "base_uri": "https://localhost:8080/",
          "height": 811
        },
        "outputId": "3fd1d832-738e-4a61-8713-cc6569c5ebee"
      },
      "source": [
        "def display4 (a, b, c, d, title1=\"Original\", title2 = \"Edited\", title3 = \"Edited\", title4 = \"Edited\"):\n",
        "    plt.figure(figsize=(14,14))\n",
        "    plt.subplot(221), plt.imshow(a), plt.title(title1)\n",
        "    plt.xticks([]), plt.yticks([])\n",
        "    plt.subplot(222), plt.imshow(b), plt.title(title2)\n",
        "    plt.xticks([]), plt.yticks([])\n",
        "    plt.subplot(223), plt.imshow(c), plt.title(title3)\n",
        "    plt.xticks([]), plt.yticks([])\n",
        "    plt.subplot(224), plt.imshow(d, cmap='gray'), plt.title(title4)\n",
        "    plt.xticks([]), plt.yticks([])\n",
        "    plt.show()\n",
        "    \n",
        "    \n",
        "display4(img1, img_GRAY, img_RGB, img_GRAY)"
      ],
      "execution_count": 62,
      "outputs": [
        {
          "output_type": "display_data",
          "data": {
            "image/png": "[encoded data removed]",
            "text/plain": [
              "<Figure size 1008x1008 with 4 Axes>"
            ]
          },
          "metadata": {
            "tags": []
          }
        }
      ]
    }
  ]
}