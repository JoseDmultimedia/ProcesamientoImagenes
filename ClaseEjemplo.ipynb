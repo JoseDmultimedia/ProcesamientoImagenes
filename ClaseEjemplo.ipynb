{
  "nbformat": 4,
  "nbformat_minor": 0,
  "metadata": {
    "colab": {
      "name": "ClaseEjemplo",
      "version": "0.3.2",
      "provenance": [],
      "include_colab_link": true
    },
    "kernelspec": {
      "name": "python3",
      "display_name": "Python 3"
    }
  },
  "cells": [
    {
      "cell_type": "markdown",
      "metadata": {
        "id": "view-in-github",
        "colab_type": "text"
      },
      "source": [
        "<a href=\"https://colab.research.google.com/github/JoseDmultimedia/ProcesamientoImagenes/blob/master/ClaseEjemplo.ipynb\" target=\"_parent\"><img src=\"https://colab.research.google.com/assets/colab-badge.svg\" alt=\"Open In Colab\"/></a>"
      ]
    },
    {
      "cell_type": "markdown",
      "metadata": {
        "id": "lvWQX0OhiduS",
        "colab_type": "text"
      },
      "source": [
        "# **EJEMPLO**"
      ]
    },
    {
      "cell_type": "code",
      "metadata": {
        "id": "3AQQXgcEioeC",
        "colab_type": "code",
        "colab": {
          "base_uri": "https://localhost:8080/",
          "height": 34
        },
        "outputId": "a20fe7a9-b817-4032-84e5-94876ab5096c"
      },
      "source": [
        "from google.colab import drive\n",
        "drive.mount('/content/drive')\n"
      ],
      "execution_count": 4,
      "outputs": [
        {
          "output_type": "stream",
          "text": [
            "Drive already mounted at /content/drive; to attempt to forcibly remount, call drive.mount(\"/content/drive\", force_remount=True).\n"
          ],
          "name": "stdout"
        }
      ]
    },
    {
      "cell_type": "markdown",
      "metadata": {
        "id": "biCFveJ6jnwq",
        "colab_type": "text"
      },
      "source": [
        "# **Importar las Librerias necesarias**"
      ]
    },
    {
      "cell_type": "code",
      "metadata": {
        "id": "ZV3chIoDjyrz",
        "colab_type": "code",
        "colab": {}
      },
      "source": [
        "# importar librerias necesarias \n",
        "import numpy as np\n",
        "import matplotlib.pyplot as plt\n",
        "import cv2\n",
        "\n",
        "#graficar imagenes estaticas en el notebook\n",
        "%matplotlib inline"
      ],
      "execution_count": 0,
      "outputs": []
    },
    {
      "cell_type": "markdown",
      "metadata": {
        "id": "kYxKS6XylfaH",
        "colab_type": "text"
      },
      "source": [
        "# **Forma Habitual de leer una imagen** (Error)"
      ]
    },
    {
      "cell_type": "code",
      "metadata": {
        "id": "mlutYV6TlkDe",
        "colab_type": "code",
        "colab": {}
      },
      "source": [
        "image = cv2.imread('/content/drive/My Drive/Folder PDI/Imagen.png')\n",
        "cv2.imshow(\"Image\", image)\n",
        "cv2.waitKey(0)"
      ],
      "execution_count": 0,
      "outputs": []
    },
    {
      "cell_type": "markdown",
      "metadata": {
        "id": "UTrVf666m75v",
        "colab_type": "text"
      },
      "source": [
        "# **New Script / Solución Cargar Imagen**"
      ]
    },
    {
      "cell_type": "code",
      "metadata": {
        "id": "KiiKgv3rnCD2",
        "colab_type": "code",
        "colab": {
          "base_uri": "https://localhost:8080/",
          "height": 529
        },
        "outputId": "3d10bceb-217b-40a2-b146-0e16341ae516"
      },
      "source": [
        "from google.colab.patches import cv2_imshow\n",
        "img = cv2.imread('/content/drive/My Drive/Folder PDI/Imagen.png',cv2.IMREAD_UNCHANGED)\n",
        "cv2_imshow(img)"
      ],
      "execution_count": 8,
      "outputs": [
        {
          "output_type": "display_data",
          "data": {
            "image/png": "[encoded data removed]",
            "text/plain": [
              "<PIL.Image.Image image mode=RGBA size=512x512 at 0x7FF0FA79D0B8>"
            ]
          },
          "metadata": {
            "tags": []
          }
        }
      ]
    },
    {
      "cell_type": "markdown",
      "metadata": {
        "id": "pLTqiNUapl2g",
        "colab_type": "text"
      },
      "source": [
        "# **Cargan imagen original y visualizar con matplotlib**"
      ]
    },
    {
      "cell_type": "code",
      "metadata": {
        "id": "hMt8ZW5hpuDw",
        "colab_type": "code",
        "colab": {
          "base_uri": "https://localhost:8080/",
          "height": 432
        },
        "outputId": "fdbf4d39-0e26-4539-9b8b-adfbd331dcfd"
      },
      "source": [
        "#leer una imagen\n",
        "#primciple of least astonishement (surprice)\n",
        "\n",
        "img_BGR=cv2.imread('/content/drive/My Drive/Folder PDI/Imagen.png', cv2.IMREAD_COLOR)\n",
        "\n",
        "plt.figure(figsize=(7,7))\n",
        "plt.imshow(img_BGR)\n",
        "plt.show()"
      ],
      "execution_count": 11,
      "outputs": [
        {
          "output_type": "display_data",
          "data": {
            "image/png": "[encoded data removed]",
            "text/plain": [
              "<Figure size 504x504 with 1 Axes>"
            ]
          },
          "metadata": {
            "tags": []
          }
        }
      ]
    }
  ]
}